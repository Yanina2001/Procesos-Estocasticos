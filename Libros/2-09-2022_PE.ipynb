{
 "cells": [
  {
   "cell_type": "markdown",
   "id": "502f3f47",
   "metadata": {},
   "source": [
    "   1.- Create one vector, containning the sequence of numbers from -10 to 27. Print on the screen the seventh element."
   ]
  },
  {
   "cell_type": "markdown",
   "id": "c99a3263",
   "metadata": {},
   "source": [
    "   2.- Create one vector, containning the sequence of numbers from 0 to 40. Then, create the vector \n",
    "     {3(5^n) −1 | n=0,..40 }."
   ]
  },
  {
   "cell_type": "markdown",
   "id": "4010f22e",
   "metadata": {},
   "source": [
    "   3.- Consider the vector in the previous exercise.\n",
    "   \n",
    "           - choose the even numbers\n",
    "           - choose the odd numbers\n",
    "           - choose the even numbers, that are less than or equal to 100000 and greater than or equal to 1000"
   ]
  },
  {
   "cell_type": "markdown",
   "id": "f604b09b",
   "metadata": {},
   "source": [
    "   3.- You are given:\n",
    "    \n",
    "        h - the highest volume allowed for any song\n",
    "    \n",
    "        i - the initial volume before the first song\n",
    "        \n",
    "        A - a list of allowed volume changes for the following songs\n",
    "    \n",
    "    - The singer can either increase/decrease the volume of sound system for the next song by the allowed volume change A[j] for jth song from the volume of the j-1th song. \n",
    "    \n",
    "    - The singer's objective is to maximize the volume of the last song\n",
    "    \n",
    "    - The volume cannot be a negative number\n",
    "    Objective: write a function that finds the maximum volume that can be attained, or return -1 if there is no possibility of changing volume due to the given constrains. \n",
    "    \n",
    "    - Examples:\n",
    "    singer(10, 1, [4,4,4,4]) \n",
    "        1st song: can go up 4 from 1 -> volume 5; can't go down 4 from 1 (1-4 < 0)\n",
    "        2nd song: can go up 4 from 5 -> volume 9; can go down 4 from 5 -> volume 1\n",
    "        3rd song: volume 9 can't go up but can go down -> volume 5; volume 1 can't do down but can go up -> volume 5\n",
    "        4th song: volume 5 can go up -> 9; volume 5 can go down -> 1\n",
    "        Return 9\n",
    "    singer(4, 1, [4,4,4]) \n",
    "        1st song: can't go up 4 from 1 (1+4>4); can't go down 4 from 1 (1-4 < 0)\n",
    "        Return -1, can't change volume\n",
    "    singer(3, 1, [1,2,3]) \n",
    "        1st song: can go up 1 from 1 -> volume 2; can go down 1 from 1 -> volume 0\n",
    "        2nd song: can go up 2 from 2 -> volume 2; can go down 2 from 2 -> volume 0; can't go down 2 from 0; can go up 2 from 2 -> volume 2\n",
    "        3rd song: can't go up 3 from 2; can't go down 3 from 2; can't go down 3 from 0; can go up 3 from 0 -> volume 3\n",
    "        Return 3\n",
    "  "
   ]
  },
  {
   "cell_type": "code",
   "execution_count": null,
   "id": "82476df8",
   "metadata": {},
   "outputs": [],
   "source": []
  }
 ],
 "metadata": {
  "kernelspec": {
   "display_name": "Python 3.10.6 64-bit",
   "language": "python",
   "name": "python3"
  },
  "language_info": {
   "codemirror_mode": {
    "name": "ipython",
    "version": 3
   },
   "file_extension": ".py",
   "mimetype": "text/x-python",
   "name": "python",
   "nbconvert_exporter": "python",
   "pygments_lexer": "ipython3",
   "version": "3.10.6"
  },
  "vscode": {
   "interpreter": {
    "hash": "c63d8c7d738c2960218a10995aedf0a7f67a49a231e71037adf0440953cdb45b"
   }
  }
 },
 "nbformat": 4,
 "nbformat_minor": 5
}
